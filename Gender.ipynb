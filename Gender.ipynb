{
  "nbformat": 4,
  "nbformat_minor": 0,
  "metadata": {
    "colab": {
      "name": "Gender.ipynb",
      "version": "0.3.2",
      "provenance": [],
      "collapsed_sections": []
    },
    "kernelspec": {
      "name": "python3",
      "display_name": "Python 3"
    }
  },
  "cells": [
    {
      "metadata": {
        "id": "uytkY0bkNIRe",
        "colab_type": "text"
      },
      "cell_type": "markdown",
      "source": [
        "First, import sklearn's classifiers. In this case, I am using:\n",
        "\n",
        "\n",
        "\n",
        "*   `DecisionTreeClassifier`\n",
        "*   `MLPClassifier`\n",
        "*   `KNeighborsClassifier`\n",
        "*   `SVC (SVM)`\n",
        "*   `GaussianNB (Naive Bayes)`\n",
        "\n"
      ]
    },
    {
      "metadata": {
        "id": "iZ2txr2DN1WH",
        "colab_type": "code",
        "colab": {
          "base_uri": "https://localhost:8080/",
          "height": 34
        },
        "outputId": "8a9c44be-3416-4c60-fc7f-af9e18aac670"
      },
      "cell_type": "code",
      "source": [
        "from sklearn import tree\n",
        "from sklearn.neural_network import MLPClassifier\n",
        "from sklearn.neighbors import KNeighborsClassifier\n",
        "from sklearn.svm import SVC\n",
        "from sklearn.naive_bayes import GaussianNB\n",
        "\n",
        "print(\"Imported Successfully!\")"
      ],
      "execution_count": 6,
      "outputs": [
        {
          "output_type": "stream",
          "text": [
            "Imported Successfully!\n"
          ],
          "name": "stdout"
        }
      ]
    },
    {
      "metadata": {
        "id": "C9OlBpsBN5tF",
        "colab_type": "text"
      },
      "cell_type": "markdown",
      "source": [
        "Next, create variables for the classifiers. You can also make a list of classifiers if that is better in you situation."
      ]
    },
    {
      "metadata": {
        "id": "SYG5n7kKOKSL",
        "colab_type": "code",
        "colab": {}
      },
      "cell_type": "code",
      "source": [
        "clf1 = tree.DecisionTreeClassifier()\n",
        "clf2 = MLPClassifier()\n",
        "clf3 = KNeighborsClassifier()\n",
        "clf4 = SVC()\n",
        "clf5 = GaussianNB()"
      ],
      "execution_count": 0,
      "outputs": []
    },
    {
      "metadata": {
        "id": "mw5P8QEqONOY",
        "colab_type": "text"
      },
      "cell_type": "markdown",
      "source": [
        "Now, load the dataset. In this case, the dataset was a small and handwritten one (from ||Source|| on Github)"
      ]
    },
    {
      "metadata": {
        "id": "dz_tOoQeOihd",
        "colab_type": "code",
        "colab": {
          "base_uri": "https://localhost:8080/",
          "height": 34
        },
        "outputId": "8c060639-a3bd-492e-da3b-32dab74fda8c"
      },
      "cell_type": "code",
      "source": [
        "# [height, weight, shoe_size]\n",
        "X = [[181, 80, 44], [177, 70, 43], [160, 60, 38], [154, 54, 37], [166, 65, 40],\n",
        "     [190, 90, 47], [175, 64, 39],\n",
        "     [177, 70, 40], [159, 55, 37], [171, 75, 42], [181, 85, 43]]\n",
        "\n",
        "Y = ['male', 'male', 'female', 'female', 'male', 'male', 'female', 'female',\n",
        "     'female', 'male', 'male']\n",
        "\n",
        "print(X[0])"
      ],
      "execution_count": 7,
      "outputs": [
        {
          "output_type": "stream",
          "text": [
            "[181, 80, 44]\n"
          ],
          "name": "stdout"
        }
      ]
    },
    {
      "metadata": {
        "id": "uaz6TF2yOkvo",
        "colab_type": "text"
      },
      "cell_type": "markdown",
      "source": [
        "Next, train the classifiers with the training data."
      ]
    },
    {
      "metadata": {
        "id": "ur_qn9NkO10h",
        "colab_type": "code",
        "colab": {}
      },
      "cell_type": "code",
      "source": [
        "clf1 = clf1.fit(X, Y)\n",
        "clf2 = clf2.fit(X, Y)\n",
        "clf3 = clf3.fit(X, Y)\n",
        "clf4 = clf4.fit(X, Y)\n",
        "clf5 = clf5.fit(X, Y)"
      ],
      "execution_count": 0,
      "outputs": []
    },
    {
      "metadata": {
        "id": "vyQhbA1jO3nD",
        "colab_type": "text"
      },
      "cell_type": "markdown",
      "source": [
        "Now we test the models:\n",
        "\n",
        "\n",
        "1.   Make a list called `prediction` for each classifier which holds the predictions\n",
        "2.   Then we define a function called `accuracyTest` which produces the accuracy\n",
        "3.   Then we run this for all of the models\n",
        "\n"
      ]
    },
    {
      "metadata": {
        "id": "Jn-dA75XNEo8",
        "colab_type": "code",
        "colab": {
          "base_uri": "https://localhost:8080/",
          "height": 102
        },
        "outputId": "9ffa5747-fe85-4f0a-ff69-ef8bdcfaa04e"
      },
      "cell_type": "code",
      "source": [
        "prediction1 = clf1.predict(X)\n",
        "prediction2 = clf2.predict(X)\n",
        "prediction3 = clf3.predict(X)\n",
        "prediction4 = clf4.predict(X)\n",
        "prediction5 = clf5.predict(X)\n",
        "\n",
        "def accuracyTest(prediction,ytest):\n",
        "  correctCount = 0\n",
        "  for i in range(len(prediction)):\n",
        "    if(prediction[i]==ytest[i]):\n",
        "      correctCount+=1\n",
        "\n",
        "  print((correctCount/len(ytest))*100)\n",
        "  \n",
        "accuracyTest(prediction1,Y)\n",
        "accuracyTest(prediction2,Y)\n",
        "accuracyTest(prediction3,Y)\n",
        "accuracyTest(prediction4,Y)\n",
        "accuracyTest(prediction5,Y)"
      ],
      "execution_count": 9,
      "outputs": [
        {
          "output_type": "stream",
          "text": [
            "100.0\n",
            "54.54545454545454\n",
            "72.72727272727273\n",
            "100.0\n",
            "81.81818181818183\n"
          ],
          "name": "stdout"
        }
      ]
    }
  ]
}